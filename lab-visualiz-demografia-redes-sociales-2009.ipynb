{
 "cells": [
  {
   "cell_type": "code",
   "execution_count": 1,
   "metadata": {},
   "outputs": [],
   "source": [
    "import requests\n",
    "import csv\n",
    "import re\n",
    "\n",
    "## GET RAW TEXT ##\n",
    "#raw_text = requests.get(\"https://www.briansolis.com/2009/10/revealing-the-people-defining-social-networks/\", headers={'User-Agent': 'anything, who cares'}).text\n",
    "raw_text = open('raw_text').read()\n",
    "lines = raw_text.splitlines()\n",
    "\n",
    "## GET CATEGORIES ##\n",
    "sites = [l.split('logo')[0].split('/')[-1][:-1].lower() for l in lines if '2009/10' in l and 'logo' in l and not 'script' in l]\n",
    "sites.append('youtube')\n",
    "\n",
    "## GET DATA OF INTEREST ##\n",
    "# default value: '-'\n",
    "visitors_us = ['-']*len(sites)\n",
    "visitors_world = ['-']*len(sites)\n",
    "visits_us = ['-']*len(sites)\n",
    "visits_world = ['-']*len(sites)\n",
    "edu_categs = ['no college','college', 'grad. school']\n",
    "education = {categ: ['-']*len(sites) for categ in edu_categs }\n",
    "no_children = ['-']*len(sites)\n",
    "\n",
    "def engineeringNotation2int(num):\n",
    "    if num[-1]==\"B\": return int(float(num[:-1])*1000000000)\n",
    "    if num[-1]==\"M\": return int(float(num[:-1])*1000000)\n",
    "    if num[-1]==\"K\": return int((float(num[:-1])*1000))\n",
    "\n",
    "def percent(html_line):\n",
    "    line = re.sub(re.compile('<.*?>'), '', html_line)\n",
    "    return int(line.split()[-1][:-1])\n",
    "\n",
    "i=-1\n",
    "\n",
    "for n,l in enumerate(lines):\n",
    "    if 'Visitors' in l:\n",
    "        i+=1\n",
    "        l = l.replace(\"&#8211;\",\"\") # bad char                                                                                                                                               \n",
    "        line_visitors = [ engineeringNotation2int(word) for word in re.findall(\"\\d+\\.*\\d*\\ ?\\w\", l) ]                                                                                        \n",
    "        if len(line_visitors)==2:                                                                                                                                                            \n",
    "            visitors_us[i] =  line_visitors[0]                                                                                                                                               \n",
    "            visitors_world[i] = line_visitors[1]                                                                                                                                             \n",
    "        else:                                                                                                                                                                                \n",
    "            visitors_world[i] = line_visitors[0]\n",
    "    elif 'total visits' in l.lower():\n",
    "        line_visits = [ engineeringNotation2int(word) for word in re.findall(\"\\d+\\.*\\d*\\ ?\\w\", l) ]\n",
    "        if len(line_visits)==2:\n",
    "            visits_us[i] = line_visits[0]\n",
    "            visits_world[i] = line_visits[1]\n",
    "        else:\n",
    "            visits_world[i] = line_visits[0]\n",
    "    elif 'Education' in l:\n",
    "        if 'no college' in lines[n+1].lower():\n",
    "            a,b,c = [lines[n+x] for x in range(1,4)]\n",
    "            education['no college'][i] = percent(a)\n",
    "            education['college'][i] = percent(b)\n",
    "            education['grad. school'][i] = percent(c)\n",
    "        elif 'less than hs diploma' in lines[n+1].lower():\n",
    "            a,b,c,d,e = [lines[n+x] for x in range(1,6)]\n",
    "            education['no college'][i] = percent(a) + percent(b)\n",
    "            education['college'][i] = percent(c) + percent(d)\n",
    "            education['grad. school'][i] = percent(e)\n",
    "    elif 'Children in Household' in l:\n",
    "        no = lines[n+2]\n",
    "        no_children[i] = percent(no)\n",
    "\n",
    "with open(\"data.csv\",\"w\") as f:\n",
    "    writer = csv.writer(f, lineterminator=\"\\n\")\n",
    "    writer.writerow(sites)\n",
    "    writer.writerow(visitors_us)\n",
    "    writer.writerow(visitors_world)\n",
    "    writer.writerow(visits_us)\n",
    "    writer.writerow(visits_world)\n",
    "    for categ in education: writer.writerow(education[categ])\n",
    "    writer.writerow(no_children)"
   ]
  },
  {
   "cell_type": "code",
   "execution_count": 2,
   "metadata": {},
   "outputs": [
    {
     "data": {
      "text/plain": [
       "0"
      ]
     },
     "execution_count": 2,
     "metadata": {},
     "output_type": "execute_result"
    }
   ],
   "source": [
    "import os\n",
    "os.system(\"./pivote_and_sortbycol.sh 3 > data_pivoted.csv\")"
   ]
  },
  {
   "cell_type": "code",
   "execution_count": 3,
   "metadata": {},
   "outputs": [],
   "source": [
    "import pandas as pd\n",
    "import numpy as np\n",
    "import matplotlib.pyplot as plt\n",
    "%matplotlib inline"
   ]
  },
  {
   "cell_type": "code",
   "execution_count": 4,
   "metadata": {},
   "outputs": [],
   "source": [
    "data = pd.read_csv(\"data_pivoted.csv\")"
   ]
  },
  {
   "cell_type": "code",
   "execution_count": 5,
   "metadata": {},
   "outputs": [
    {
     "data": {
      "text/html": [
       "<style  type=\"text/css\" >\n",
       "</style><table id=\"T_d9cf3b6e_51ab_11ea_ae3b_10e7c6164389\" ><thead>    <tr>        <th class=\"col_heading level0 col0\" >Red social</th>        <th class=\"col_heading level0 col1\" >Visitantes (EEUU)</th>        <th class=\"col_heading level0 col2\" >Visitantes (Mundo)</th>        <th class=\"col_heading level0 col3\" >Visitas (EEUU)</th>        <th class=\"col_heading level0 col4\" >Visitas (Mundo)</th>        <th class=\"col_heading level0 col5\" >Nivel Educ. Bajo</th>        <th class=\"col_heading level0 col6\" >Nivel Educ. Medio</th>        <th class=\"col_heading level0 col7\" >Nivel. Educ Alto</th>        <th class=\"col_heading level0 col8\" >Sin hijos</th>    </tr></thead><tbody>\n",
       "                <tr>\n",
       "                                <td id=\"T_d9cf3b6e_51ab_11ea_ae3b_10e7c6164389row0_col0\" class=\"data row0 col0\" >facebook</td>\n",
       "                        <td id=\"T_d9cf3b6e_51ab_11ea_ae3b_10e7c6164389row0_col1\" class=\"data row0 col1\" >110000000</td>\n",
       "                        <td id=\"T_d9cf3b6e_51ab_11ea_ae3b_10e7c6164389row0_col2\" class=\"data row0 col2\" >370000000</td>\n",
       "                        <td id=\"T_d9cf3b6e_51ab_11ea_ae3b_10e7c6164389row0_col3\" class=\"data row0 col3\" >3100000000</td>\n",
       "                        <td id=\"T_d9cf3b6e_51ab_11ea_ae3b_10e7c6164389row0_col4\" class=\"data row0 col4\" >8700000000</td>\n",
       "                        <td id=\"T_d9cf3b6e_51ab_11ea_ae3b_10e7c6164389row0_col5\" class=\"data row0 col5\" >36</td>\n",
       "                        <td id=\"T_d9cf3b6e_51ab_11ea_ae3b_10e7c6164389row0_col6\" class=\"data row0 col6\" >56</td>\n",
       "                        <td id=\"T_d9cf3b6e_51ab_11ea_ae3b_10e7c6164389row0_col7\" class=\"data row0 col7\" >8</td>\n",
       "                        <td id=\"T_d9cf3b6e_51ab_11ea_ae3b_10e7c6164389row0_col8\" class=\"data row0 col8\" >64</td>\n",
       "            </tr>\n",
       "            <tr>\n",
       "                                <td id=\"T_d9cf3b6e_51ab_11ea_ae3b_10e7c6164389row1_col0\" class=\"data row1 col0\" >myspace</td>\n",
       "                        <td id=\"T_d9cf3b6e_51ab_11ea_ae3b_10e7c6164389row1_col1\" class=\"data row1 col1\" >61000000</td>\n",
       "                        <td id=\"T_d9cf3b6e_51ab_11ea_ae3b_10e7c6164389row1_col2\" class=\"data row1 col2\" >120000000</td>\n",
       "                        <td id=\"T_d9cf3b6e_51ab_11ea_ae3b_10e7c6164389row1_col3\" class=\"data row1 col3\" >1200000000</td>\n",
       "                        <td id=\"T_d9cf3b6e_51ab_11ea_ae3b_10e7c6164389row1_col4\" class=\"data row1 col4\" >1500000000</td>\n",
       "                        <td id=\"T_d9cf3b6e_51ab_11ea_ae3b_10e7c6164389row1_col5\" class=\"data row1 col5\" >44</td>\n",
       "                        <td id=\"T_d9cf3b6e_51ab_11ea_ae3b_10e7c6164389row1_col6\" class=\"data row1 col6\" >52</td>\n",
       "                        <td id=\"T_d9cf3b6e_51ab_11ea_ae3b_10e7c6164389row1_col7\" class=\"data row1 col7\" >4</td>\n",
       "                        <td id=\"T_d9cf3b6e_51ab_11ea_ae3b_10e7c6164389row1_col8\" class=\"data row1 col8\" >43</td>\n",
       "            </tr>\n",
       "            <tr>\n",
       "                                <td id=\"T_d9cf3b6e_51ab_11ea_ae3b_10e7c6164389row2_col0\" class=\"data row2 col0\" >youtube</td>\n",
       "                        <td id=\"T_d9cf3b6e_51ab_11ea_ae3b_10e7c6164389row2_col1\" class=\"data row2 col1\" >-</td>\n",
       "                        <td id=\"T_d9cf3b6e_51ab_11ea_ae3b_10e7c6164389row2_col2\" class=\"data row2 col2\" >78000000</td>\n",
       "                        <td id=\"T_d9cf3b6e_51ab_11ea_ae3b_10e7c6164389row2_col3\" class=\"data row2 col3\" >-</td>\n",
       "                        <td id=\"T_d9cf3b6e_51ab_11ea_ae3b_10e7c6164389row2_col4\" class=\"data row2 col4\" >459000000</td>\n",
       "                        <td id=\"T_d9cf3b6e_51ab_11ea_ae3b_10e7c6164389row2_col5\" class=\"data row2 col5\" >48</td>\n",
       "                        <td id=\"T_d9cf3b6e_51ab_11ea_ae3b_10e7c6164389row2_col6\" class=\"data row2 col6\" >39</td>\n",
       "                        <td id=\"T_d9cf3b6e_51ab_11ea_ae3b_10e7c6164389row2_col7\" class=\"data row2 col7\" >13</td>\n",
       "                        <td id=\"T_d9cf3b6e_51ab_11ea_ae3b_10e7c6164389row2_col8\" class=\"data row2 col8\" >57</td>\n",
       "            </tr>\n",
       "            <tr>\n",
       "                                <td id=\"T_d9cf3b6e_51ab_11ea_ae3b_10e7c6164389row3_col0\" class=\"data row3 col0\" >flickr</td>\n",
       "                        <td id=\"T_d9cf3b6e_51ab_11ea_ae3b_10e7c6164389row3_col1\" class=\"data row3 col1\" >19000000</td>\n",
       "                        <td id=\"T_d9cf3b6e_51ab_11ea_ae3b_10e7c6164389row3_col2\" class=\"data row3 col2\" >73000000</td>\n",
       "                        <td id=\"T_d9cf3b6e_51ab_11ea_ae3b_10e7c6164389row3_col3\" class=\"data row3 col3\" >94000000</td>\n",
       "                        <td id=\"T_d9cf3b6e_51ab_11ea_ae3b_10e7c6164389row3_col4\" class=\"data row3 col4\" >280000000</td>\n",
       "                        <td id=\"T_d9cf3b6e_51ab_11ea_ae3b_10e7c6164389row3_col5\" class=\"data row3 col5\" >27</td>\n",
       "                        <td id=\"T_d9cf3b6e_51ab_11ea_ae3b_10e7c6164389row3_col6\" class=\"data row3 col6\" >64</td>\n",
       "                        <td id=\"T_d9cf3b6e_51ab_11ea_ae3b_10e7c6164389row3_col7\" class=\"data row3 col7\" >9</td>\n",
       "                        <td id=\"T_d9cf3b6e_51ab_11ea_ae3b_10e7c6164389row3_col8\" class=\"data row3 col8\" >72</td>\n",
       "            </tr>\n",
       "            <tr>\n",
       "                                <td id=\"T_d9cf3b6e_51ab_11ea_ae3b_10e7c6164389row4_col0\" class=\"data row4 col0\" >twitter</td>\n",
       "                        <td id=\"T_d9cf3b6e_51ab_11ea_ae3b_10e7c6164389row4_col1\" class=\"data row4 col1\" >24000000</td>\n",
       "                        <td id=\"T_d9cf3b6e_51ab_11ea_ae3b_10e7c6164389row4_col2\" class=\"data row4 col2\" >66000000</td>\n",
       "                        <td id=\"T_d9cf3b6e_51ab_11ea_ae3b_10e7c6164389row4_col3\" class=\"data row4 col3\" >270000000</td>\n",
       "                        <td id=\"T_d9cf3b6e_51ab_11ea_ae3b_10e7c6164389row4_col4\" class=\"data row4 col4\" >550000000</td>\n",
       "                        <td id=\"T_d9cf3b6e_51ab_11ea_ae3b_10e7c6164389row4_col5\" class=\"data row4 col5\" >21</td>\n",
       "                        <td id=\"T_d9cf3b6e_51ab_11ea_ae3b_10e7c6164389row4_col6\" class=\"data row4 col6\" >71</td>\n",
       "                        <td id=\"T_d9cf3b6e_51ab_11ea_ae3b_10e7c6164389row4_col7\" class=\"data row4 col7\" >8</td>\n",
       "                        <td id=\"T_d9cf3b6e_51ab_11ea_ae3b_10e7c6164389row4_col8\" class=\"data row4 col8\" >72</td>\n",
       "            </tr>\n",
       "            <tr>\n",
       "                                <td id=\"T_d9cf3b6e_51ab_11ea_ae3b_10e7c6164389row5_col0\" class=\"data row5 col0\" >linkedin</td>\n",
       "                        <td id=\"T_d9cf3b6e_51ab_11ea_ae3b_10e7c6164389row5_col1\" class=\"data row5 col1\" >14000000</td>\n",
       "                        <td id=\"T_d9cf3b6e_51ab_11ea_ae3b_10e7c6164389row5_col2\" class=\"data row5 col2\" >31000000</td>\n",
       "                        <td id=\"T_d9cf3b6e_51ab_11ea_ae3b_10e7c6164389row5_col3\" class=\"data row5 col3\" >85000000</td>\n",
       "                        <td id=\"T_d9cf3b6e_51ab_11ea_ae3b_10e7c6164389row5_col4\" class=\"data row5 col4\" >160000000</td>\n",
       "                        <td id=\"T_d9cf3b6e_51ab_11ea_ae3b_10e7c6164389row5_col5\" class=\"data row5 col5\" >13</td>\n",
       "                        <td id=\"T_d9cf3b6e_51ab_11ea_ae3b_10e7c6164389row5_col6\" class=\"data row5 col6\" >71</td>\n",
       "                        <td id=\"T_d9cf3b6e_51ab_11ea_ae3b_10e7c6164389row5_col7\" class=\"data row5 col7\" >16</td>\n",
       "                        <td id=\"T_d9cf3b6e_51ab_11ea_ae3b_10e7c6164389row5_col8\" class=\"data row5 col8\" >90</td>\n",
       "            </tr>\n",
       "            <tr>\n",
       "                                <td id=\"T_d9cf3b6e_51ab_11ea_ae3b_10e7c6164389row6_col0\" class=\"data row6 col0\" >scribd</td>\n",
       "                        <td id=\"T_d9cf3b6e_51ab_11ea_ae3b_10e7c6164389row6_col1\" class=\"data row6 col1\" >4200000</td>\n",
       "                        <td id=\"T_d9cf3b6e_51ab_11ea_ae3b_10e7c6164389row6_col2\" class=\"data row6 col2\" >23000000</td>\n",
       "                        <td id=\"T_d9cf3b6e_51ab_11ea_ae3b_10e7c6164389row6_col3\" class=\"data row6 col3\" >10000000</td>\n",
       "                        <td id=\"T_d9cf3b6e_51ab_11ea_ae3b_10e7c6164389row6_col4\" class=\"data row6 col4\" >51000000</td>\n",
       "                        <td id=\"T_d9cf3b6e_51ab_11ea_ae3b_10e7c6164389row6_col5\" class=\"data row6 col5\" >23</td>\n",
       "                        <td id=\"T_d9cf3b6e_51ab_11ea_ae3b_10e7c6164389row6_col6\" class=\"data row6 col6\" >65</td>\n",
       "                        <td id=\"T_d9cf3b6e_51ab_11ea_ae3b_10e7c6164389row6_col7\" class=\"data row6 col7\" >13</td>\n",
       "                        <td id=\"T_d9cf3b6e_51ab_11ea_ae3b_10e7c6164389row6_col8\" class=\"data row6 col8\" >79</td>\n",
       "            </tr>\n",
       "            <tr>\n",
       "                                <td id=\"T_d9cf3b6e_51ab_11ea_ae3b_10e7c6164389row7_col0\" class=\"data row7 col0\" >digg</td>\n",
       "                        <td id=\"T_d9cf3b6e_51ab_11ea_ae3b_10e7c6164389row7_col1\" class=\"data row7 col1\" >9000000</td>\n",
       "                        <td id=\"T_d9cf3b6e_51ab_11ea_ae3b_10e7c6164389row7_col2\" class=\"data row7 col2\" >23000000</td>\n",
       "                        <td id=\"T_d9cf3b6e_51ab_11ea_ae3b_10e7c6164389row7_col3\" class=\"data row7 col3\" >53000000</td>\n",
       "                        <td id=\"T_d9cf3b6e_51ab_11ea_ae3b_10e7c6164389row7_col4\" class=\"data row7 col4\" >98000000</td>\n",
       "                        <td id=\"T_d9cf3b6e_51ab_11ea_ae3b_10e7c6164389row7_col5\" class=\"data row7 col5\" >25</td>\n",
       "                        <td id=\"T_d9cf3b6e_51ab_11ea_ae3b_10e7c6164389row7_col6\" class=\"data row7 col6\" >66</td>\n",
       "                        <td id=\"T_d9cf3b6e_51ab_11ea_ae3b_10e7c6164389row7_col7\" class=\"data row7 col7\" >9</td>\n",
       "                        <td id=\"T_d9cf3b6e_51ab_11ea_ae3b_10e7c6164389row7_col8\" class=\"data row7 col8\" >78</td>\n",
       "            </tr>\n",
       "            <tr>\n",
       "                                <td id=\"T_d9cf3b6e_51ab_11ea_ae3b_10e7c6164389row8_col0\" class=\"data row8 col0\" >ning</td>\n",
       "                        <td id=\"T_d9cf3b6e_51ab_11ea_ae3b_10e7c6164389row8_col1\" class=\"data row8 col1\" >5600000</td>\n",
       "                        <td id=\"T_d9cf3b6e_51ab_11ea_ae3b_10e7c6164389row8_col2\" class=\"data row8 col2\" >18000000</td>\n",
       "                        <td id=\"T_d9cf3b6e_51ab_11ea_ae3b_10e7c6164389row8_col3\" class=\"data row8 col3\" >28000000</td>\n",
       "                        <td id=\"T_d9cf3b6e_51ab_11ea_ae3b_10e7c6164389row8_col4\" class=\"data row8 col4\" >74000000</td>\n",
       "                        <td id=\"T_d9cf3b6e_51ab_11ea_ae3b_10e7c6164389row8_col5\" class=\"data row8 col5\" >27</td>\n",
       "                        <td id=\"T_d9cf3b6e_51ab_11ea_ae3b_10e7c6164389row8_col6\" class=\"data row8 col6\" >66</td>\n",
       "                        <td id=\"T_d9cf3b6e_51ab_11ea_ae3b_10e7c6164389row8_col7\" class=\"data row8 col7\" >7</td>\n",
       "                        <td id=\"T_d9cf3b6e_51ab_11ea_ae3b_10e7c6164389row8_col8\" class=\"data row8 col8\" >64</td>\n",
       "            </tr>\n",
       "            <tr>\n",
       "                                <td id=\"T_d9cf3b6e_51ab_11ea_ae3b_10e7c6164389row9_col0\" class=\"data row9 col0\" >yelp</td>\n",
       "                        <td id=\"T_d9cf3b6e_51ab_11ea_ae3b_10e7c6164389row9_col1\" class=\"data row9 col1\" >9700000</td>\n",
       "                        <td id=\"T_d9cf3b6e_51ab_11ea_ae3b_10e7c6164389row9_col2\" class=\"data row9 col2\" >11000000</td>\n",
       "                        <td id=\"T_d9cf3b6e_51ab_11ea_ae3b_10e7c6164389row9_col3\" class=\"data row9 col3\" >33000000</td>\n",
       "                        <td id=\"T_d9cf3b6e_51ab_11ea_ae3b_10e7c6164389row9_col4\" class=\"data row9 col4\" >35000000</td>\n",
       "                        <td id=\"T_d9cf3b6e_51ab_11ea_ae3b_10e7c6164389row9_col5\" class=\"data row9 col5\" >18</td>\n",
       "                        <td id=\"T_d9cf3b6e_51ab_11ea_ae3b_10e7c6164389row9_col6\" class=\"data row9 col6\" >67</td>\n",
       "                        <td id=\"T_d9cf3b6e_51ab_11ea_ae3b_10e7c6164389row9_col7\" class=\"data row9 col7\" >14</td>\n",
       "                        <td id=\"T_d9cf3b6e_51ab_11ea_ae3b_10e7c6164389row9_col8\" class=\"data row9 col8\" >85</td>\n",
       "            </tr>\n",
       "            <tr>\n",
       "                                <td id=\"T_d9cf3b6e_51ab_11ea_ae3b_10e7c6164389row10_col0\" class=\"data row10 col0\" >ustream</td>\n",
       "                        <td id=\"T_d9cf3b6e_51ab_11ea_ae3b_10e7c6164389row10_col1\" class=\"data row10 col1\" >1500000</td>\n",
       "                        <td id=\"T_d9cf3b6e_51ab_11ea_ae3b_10e7c6164389row10_col2\" class=\"data row10 col2\" >4600000</td>\n",
       "                        <td id=\"T_d9cf3b6e_51ab_11ea_ae3b_10e7c6164389row10_col3\" class=\"data row10 col3\" >6100000</td>\n",
       "                        <td id=\"T_d9cf3b6e_51ab_11ea_ae3b_10e7c6164389row10_col4\" class=\"data row10 col4\" >14000000</td>\n",
       "                        <td id=\"T_d9cf3b6e_51ab_11ea_ae3b_10e7c6164389row10_col5\" class=\"data row10 col5\" >24</td>\n",
       "                        <td id=\"T_d9cf3b6e_51ab_11ea_ae3b_10e7c6164389row10_col6\" class=\"data row10 col6\" >69</td>\n",
       "                        <td id=\"T_d9cf3b6e_51ab_11ea_ae3b_10e7c6164389row10_col7\" class=\"data row10 col7\" >6</td>\n",
       "                        <td id=\"T_d9cf3b6e_51ab_11ea_ae3b_10e7c6164389row10_col8\" class=\"data row10 col8\" >66</td>\n",
       "            </tr>\n",
       "            <tr>\n",
       "                                <td id=\"T_d9cf3b6e_51ab_11ea_ae3b_10e7c6164389row11_col0\" class=\"data row11 col0\" >docstoc</td>\n",
       "                        <td id=\"T_d9cf3b6e_51ab_11ea_ae3b_10e7c6164389row11_col1\" class=\"data row11 col1\" >1800000</td>\n",
       "                        <td id=\"T_d9cf3b6e_51ab_11ea_ae3b_10e7c6164389row11_col2\" class=\"data row11 col2\" >4600000</td>\n",
       "                        <td id=\"T_d9cf3b6e_51ab_11ea_ae3b_10e7c6164389row11_col3\" class=\"data row11 col3\" >3900000</td>\n",
       "                        <td id=\"T_d9cf3b6e_51ab_11ea_ae3b_10e7c6164389row11_col4\" class=\"data row11 col4\" >9000000</td>\n",
       "                        <td id=\"T_d9cf3b6e_51ab_11ea_ae3b_10e7c6164389row11_col5\" class=\"data row11 col5\" >20</td>\n",
       "                        <td id=\"T_d9cf3b6e_51ab_11ea_ae3b_10e7c6164389row11_col6\" class=\"data row11 col6\" >68</td>\n",
       "                        <td id=\"T_d9cf3b6e_51ab_11ea_ae3b_10e7c6164389row11_col7\" class=\"data row11 col7\" >13</td>\n",
       "                        <td id=\"T_d9cf3b6e_51ab_11ea_ae3b_10e7c6164389row11_col8\" class=\"data row11 col8\" >81</td>\n",
       "            </tr>\n",
       "            <tr>\n",
       "                                <td id=\"T_d9cf3b6e_51ab_11ea_ae3b_10e7c6164389row12_col0\" class=\"data row12 col0\" >delicious</td>\n",
       "                        <td id=\"T_d9cf3b6e_51ab_11ea_ae3b_10e7c6164389row12_col1\" class=\"data row12 col1\" >1200000</td>\n",
       "                        <td id=\"T_d9cf3b6e_51ab_11ea_ae3b_10e7c6164389row12_col2\" class=\"data row12 col2\" >4600000</td>\n",
       "                        <td id=\"T_d9cf3b6e_51ab_11ea_ae3b_10e7c6164389row12_col3\" class=\"data row12 col3\" >7200000</td>\n",
       "                        <td id=\"T_d9cf3b6e_51ab_11ea_ae3b_10e7c6164389row12_col4\" class=\"data row12 col4\" >21000000</td>\n",
       "                        <td id=\"T_d9cf3b6e_51ab_11ea_ae3b_10e7c6164389row12_col5\" class=\"data row12 col5\" >11</td>\n",
       "                        <td id=\"T_d9cf3b6e_51ab_11ea_ae3b_10e7c6164389row12_col6\" class=\"data row12 col6\" >75</td>\n",
       "                        <td id=\"T_d9cf3b6e_51ab_11ea_ae3b_10e7c6164389row12_col7\" class=\"data row12 col7\" >14</td>\n",
       "                        <td id=\"T_d9cf3b6e_51ab_11ea_ae3b_10e7c6164389row12_col8\" class=\"data row12 col8\" >89</td>\n",
       "            </tr>\n",
       "            <tr>\n",
       "                                <td id=\"T_d9cf3b6e_51ab_11ea_ae3b_10e7c6164389row13_col0\" class=\"data row13 col0\" >friendfeed</td>\n",
       "                        <td id=\"T_d9cf3b6e_51ab_11ea_ae3b_10e7c6164389row13_col1\" class=\"data row13 col1\" >680000</td>\n",
       "                        <td id=\"T_d9cf3b6e_51ab_11ea_ae3b_10e7c6164389row13_col2\" class=\"data row13 col2\" >2600000</td>\n",
       "                        <td id=\"T_d9cf3b6e_51ab_11ea_ae3b_10e7c6164389row13_col3\" class=\"data row13 col3\" >3400000</td>\n",
       "                        <td id=\"T_d9cf3b6e_51ab_11ea_ae3b_10e7c6164389row13_col4\" class=\"data row13 col4\" >12000000</td>\n",
       "                        <td id=\"T_d9cf3b6e_51ab_11ea_ae3b_10e7c6164389row13_col5\" class=\"data row13 col5\" >8</td>\n",
       "                        <td id=\"T_d9cf3b6e_51ab_11ea_ae3b_10e7c6164389row13_col6\" class=\"data row13 col6\" >84</td>\n",
       "                        <td id=\"T_d9cf3b6e_51ab_11ea_ae3b_10e7c6164389row13_col7\" class=\"data row13 col7\" >8</td>\n",
       "                        <td id=\"T_d9cf3b6e_51ab_11ea_ae3b_10e7c6164389row13_col8\" class=\"data row13 col8\" >90</td>\n",
       "            </tr>\n",
       "            <tr>\n",
       "                                <td id=\"T_d9cf3b6e_51ab_11ea_ae3b_10e7c6164389row14_col0\" class=\"data row14 col0\" >mixx</td>\n",
       "                        <td id=\"T_d9cf3b6e_51ab_11ea_ae3b_10e7c6164389row14_col1\" class=\"data row14 col1\" >570000</td>\n",
       "                        <td id=\"T_d9cf3b6e_51ab_11ea_ae3b_10e7c6164389row14_col2\" class=\"data row14 col2\" >2300000</td>\n",
       "                        <td id=\"T_d9cf3b6e_51ab_11ea_ae3b_10e7c6164389row14_col3\" class=\"data row14 col3\" >1600000</td>\n",
       "                        <td id=\"T_d9cf3b6e_51ab_11ea_ae3b_10e7c6164389row14_col4\" class=\"data row14 col4\" >4600000</td>\n",
       "                        <td id=\"T_d9cf3b6e_51ab_11ea_ae3b_10e7c6164389row14_col5\" class=\"data row14 col5\" >24</td>\n",
       "                        <td id=\"T_d9cf3b6e_51ab_11ea_ae3b_10e7c6164389row14_col6\" class=\"data row14 col6\" >68</td>\n",
       "                        <td id=\"T_d9cf3b6e_51ab_11ea_ae3b_10e7c6164389row14_col7\" class=\"data row14 col7\" >7</td>\n",
       "                        <td id=\"T_d9cf3b6e_51ab_11ea_ae3b_10e7c6164389row14_col8\" class=\"data row14 col8\" >76</td>\n",
       "            </tr>\n",
       "            <tr>\n",
       "                                <td id=\"T_d9cf3b6e_51ab_11ea_ae3b_10e7c6164389row15_col0\" class=\"data row15 col0\" >upcoming</td>\n",
       "                        <td id=\"T_d9cf3b6e_51ab_11ea_ae3b_10e7c6164389row15_col1\" class=\"data row15 col1\" >-</td>\n",
       "                        <td id=\"T_d9cf3b6e_51ab_11ea_ae3b_10e7c6164389row15_col2\" class=\"data row15 col2\" >1400000</td>\n",
       "                        <td id=\"T_d9cf3b6e_51ab_11ea_ae3b_10e7c6164389row15_col3\" class=\"data row15 col3\" >-</td>\n",
       "                        <td id=\"T_d9cf3b6e_51ab_11ea_ae3b_10e7c6164389row15_col4\" class=\"data row15 col4\" >1800000</td>\n",
       "                        <td id=\"T_d9cf3b6e_51ab_11ea_ae3b_10e7c6164389row15_col5\" class=\"data row15 col5\" >45</td>\n",
       "                        <td id=\"T_d9cf3b6e_51ab_11ea_ae3b_10e7c6164389row15_col6\" class=\"data row15 col6\" >42</td>\n",
       "                        <td id=\"T_d9cf3b6e_51ab_11ea_ae3b_10e7c6164389row15_col7\" class=\"data row15 col7\" >13</td>\n",
       "                        <td id=\"T_d9cf3b6e_51ab_11ea_ae3b_10e7c6164389row15_col8\" class=\"data row15 col8\" >41</td>\n",
       "            </tr>\n",
       "            <tr>\n",
       "                                <td id=\"T_d9cf3b6e_51ab_11ea_ae3b_10e7c6164389row16_col0\" class=\"data row16 col0\" >qik</td>\n",
       "                        <td id=\"T_d9cf3b6e_51ab_11ea_ae3b_10e7c6164389row16_col1\" class=\"data row16 col1\" >120000</td>\n",
       "                        <td id=\"T_d9cf3b6e_51ab_11ea_ae3b_10e7c6164389row16_col2\" class=\"data row16 col2\" >380000</td>\n",
       "                        <td id=\"T_d9cf3b6e_51ab_11ea_ae3b_10e7c6164389row16_col3\" class=\"data row16 col3\" >340000</td>\n",
       "                        <td id=\"T_d9cf3b6e_51ab_11ea_ae3b_10e7c6164389row16_col4\" class=\"data row16 col4\" >920000</td>\n",
       "                        <td id=\"T_d9cf3b6e_51ab_11ea_ae3b_10e7c6164389row16_col5\" class=\"data row16 col5\" >19</td>\n",
       "                        <td id=\"T_d9cf3b6e_51ab_11ea_ae3b_10e7c6164389row16_col6\" class=\"data row16 col6\" >74</td>\n",
       "                        <td id=\"T_d9cf3b6e_51ab_11ea_ae3b_10e7c6164389row16_col7\" class=\"data row16 col7\" >7</td>\n",
       "                        <td id=\"T_d9cf3b6e_51ab_11ea_ae3b_10e7c6164389row16_col8\" class=\"data row16 col8\" >78</td>\n",
       "            </tr>\n",
       "    </tbody></table>"
      ],
      "text/plain": [
       "<pandas.io.formats.style.Styler at 0x7f5a8436e4e0>"
      ]
     },
     "execution_count": 5,
     "metadata": {},
     "output_type": "execute_result"
    }
   ],
   "source": [
    "data.style.hide_index()"
   ]
  },
  {
   "cell_type": "markdown",
   "metadata": {},
   "source": [
    "# ¿Qué redes sociales son más grandes?"
   ]
  },
  {
   "cell_type": "code",
   "execution_count": 6,
   "metadata": {},
   "outputs": [
    {
     "data": {
      "image/png": "[encoded data removed]",
      "text/plain": [
       "<Figure size 1152x864 with 1 Axes>"
      ]
     },
     "metadata": {},
     "output_type": "display_data"
    }
   ],
   "source": [
    "barh_data = data.to_dict('Red social')\n",
    "\n",
    "\n",
    "plt.barh( data.sort_values(\"Visitantes (Mundo)\", ascending=True)[\"Red social\"],\n",
    "         data[\"Visitantes (Mundo)\"].sort_values(ascending=True),\n",
    "        figure = plt.figure(figsize= [6.4*2.5, 4.8*2.5]))\n",
    "plt.xticks(np.arange(0, max(data[\"Visitantes (Mundo)\"]), 10000000))\n",
    "\n",
    "plt.xlabel(\"Visitantes\")\n",
    "plt.show()\n"
   ]
  },
  {
   "cell_type": "markdown",
   "metadata": {},
   "source": [
    "# ¿Qué tipo de gente hay en cada red social?\n",
    "\n",
    "![](tablas_tipo_gente.png)"
   ]
  },
  {
   "cell_type": "code",
   "execution_count": 7,
   "metadata": {},
   "outputs": [
    {
     "data": {
      "text/plain": [
       "<Figure size 432x288 with 0 Axes>"
      ]
     },
     "execution_count": 7,
     "metadata": {},
     "output_type": "execute_result"
    },
    {
     "data": {
      "text/plain": [
       "<Figure size 432x288 with 0 Axes>"
      ]
     },
     "metadata": {},
     "output_type": "display_data"
    }
   ],
   "source": [
    "#TODO: reproducir estas tablas programáticamente"
   ]
  }
 ],
 "metadata": {
  "kernelspec": {
   "display_name": "Python 3",
   "language": "python",
   "name": "python3"
  },
  "language_info": {
   "codemirror_mode": {
    "name": "ipython",
    "version": 3
   },
   "file_extension": ".py",
   "mimetype": "text/x-python",
   "name": "python",
   "nbconvert_exporter": "python",
   "pygments_lexer": "ipython3",
   "version": "3.7.3"
  }
 },
 "nbformat": 4,
 "nbformat_minor": 2
}
